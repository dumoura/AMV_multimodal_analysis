{
 "cells": [
  {
   "cell_type": "markdown",
   "metadata": {},
   "source": [
    "# Setings\n",
    "\n",
    "- Youtube-dl (https://youtube-dl.org/)"
   ]
  },
  {
   "cell_type": "code",
   "execution_count": 2,
   "metadata": {},
   "outputs": [],
   "source": [
    "#!pip install moviepy"
   ]
  },
  {
   "cell_type": "markdown",
   "metadata": {},
   "source": [
    "## Configurações básicas \n",
    "\n",
    "- Bibliotecas usadas\n",
    "- Diretórios e locais de trabalho\n"
   ]
  },
  {
   "cell_type": "code",
   "execution_count": 1,
   "metadata": {},
   "outputs": [],
   "source": [
    "# Bibliotecas usadas\n",
    "\n",
    "import os\n",
    "import pandas as pd\n",
    "from matplotlib import pyplot as plt\n",
    "\n",
    "import sys\n",
    "import datetime\n",
    "import json\n",
    "import glob\n",
    "import csv\n",
    "\n",
    "\n",
    "import webvtt #!pip install webvtt-py\n",
    "from moviepy.editor import * #!pip install moviepy\n",
    "from PIL import Image\n",
    "\n",
    "\n",
    "from googleapiclient.discovery import build\n",
    "from IPython.display import JSON\n"
   ]
  },
  {
   "cell_type": "code",
   "execution_count": 2,
   "metadata": {},
   "outputs": [
    {
     "name": "stdout",
     "output_type": "stream",
     "text": [
      "/Volumes/Elements/Dev/TCC/notebook\n"
     ]
    }
   ],
   "source": [
    "# Diretórios e locais de trabalho\n",
    "## dirbase = os.chdir(\"\") incluir sua base de trabalho\n",
    "\n",
    "cwd = os.getcwd()\n",
    "print(cwd)"
   ]
  },
  {
   "cell_type": "code",
   "execution_count": 3,
   "metadata": {},
   "outputs": [],
   "source": [
    "#Base_dir\n",
    "BASE_DIR = os.path.dirname(cwd) # base de trabalho\n",
    "DATA_DIR = os.path.join(BASE_DIR, \"data\") # dados gerais levantados durante projeto\n",
    "META_DIR = os.path.join(BASE_DIR, \"metadados\") #metadados levantados durante projeto\n",
    "SAMPLE_DIR = os.path.join(DATA_DIR, \"sample\") # material em processo - pode ser apagado ao final, caso julgue necessário\n",
    "INPUTS_DIR = os.path.join(SAMPLE_DIR, \"inputs\") # local de trabalho para processamento de dados de midia \n",
    "OUTPUTS_DIR = os.path.join(SAMPLE_DIR, \"outputs\") # local de trabalho para processamento de dados de midia \n",
    "\n",
    "#MASHUPS\n",
    "VIDS_DIR = os.path.join(DATA_DIR, \"vids\") # dados gerais levantados durante projeto\n",
    "\n",
    "#Inputs\n",
    "VID_DIR = os.path.join(INPUTS_DIR, \"vid_input\") # local de trabalho para processamento de dados de midia \n",
    "AUDIO_DIR = os.path.join(INPUTS_DIR, \"audio_input\") # local de trabalho para processamento de dados de midia # # Criar diretórios e locais de trabalho\n",
    "LGG_DIR = os.path.join(INPUTS_DIR, \"lgg_input\") # local de trabalho para processamento de dados de midia \n",
    "LINK_DIR = os.path.join(DATA_DIR, \"links\") # local de trabalho com links e IDs dos vídeos\n",
    "\n",
    "#Outputs\n",
    "FRAME_DIR = os.path.join(OUTPUTS_DIR, \"thumbnails\") # local de trabalho para processamento de dados de midia \n",
    "SONG_DIR = os.path.join(OUTPUTS_DIR, \"songs\") # local de trabalho para processamento de dados de midia # # Criar diretórios e locais de trabalho\n",
    "LYRIC_DIR = os.path.join(OUTPUTS_DIR, \"lyrics\") # local de trabalho para processamento de dados de midia \n",
    "\n",
    "#Make_dirs\n",
    "os.makedirs(DATA_DIR, exist_ok=True)\n",
    "os.makedirs(META_DIR, exist_ok=True)\n",
    "os.makedirs(SAMPLE_DIR, exist_ok=True)\n",
    "os.makedirs(INPUTS_DIR, exist_ok=True)\n",
    "os.makedirs(OUTPUTS_DIR, exist_ok=True)\n",
    "\n",
    "#Make_vids\n",
    "os.makedirs(VIDS_DIR, exist_ok=True)\n",
    "\n",
    "##Make_dirs inputs\n",
    "os.makedirs(VID_DIR , exist_ok=True)\n",
    "os.makedirs(AUDIO_DIR, exist_ok=True)\n",
    "os.makedirs(LGG_DIR, exist_ok=True)\n",
    "os.makedirs(LINK_DIR, exist_ok=True)\n",
    "\n",
    "##Make_dirs outputs\n",
    "os.makedirs(FRAME_DIR, exist_ok=True)\n",
    "os.makedirs(SONG_DIR, exist_ok=True)\n",
    "os.makedirs(LYRIC_DIR, exist_ok=True)"
   ]
  },
  {
   "cell_type": "code",
   "execution_count": 4,
   "metadata": {},
   "outputs": [],
   "source": [
    "# Verificar se os diretórios e locais de trabalho foram criados corretamente\n",
    "# os.listdir(BASE_DIR)"
   ]
  },
  {
   "cell_type": "code",
   "execution_count": 5,
   "metadata": {},
   "outputs": [],
   "source": [
    "# Definir contexto -período- de trabalho \n",
    "\n",
    "now = datetime.datetime.now()\n",
    "year = datetime.datetime.now().year\n",
    "day = datetime.datetime.now().day\n",
    "month = datetime.datetime.now().month\n",
    "\n",
    "# Usar contexto para nomear documentos\n",
    "\n",
    "context = f\"_{month}-{day}-{year}\""
   ]
  },
  {
   "cell_type": "code",
   "execution_count": 6,
   "metadata": {},
   "outputs": [],
   "source": [
    "#print(context) \"\"\"retirar comentário para ver resultado\"\"\""
   ]
  },
  {
   "cell_type": "markdown",
   "metadata": {},
   "source": [
    "## Configurar Youtube API"
   ]
  },
  {
   "cell_type": "code",
   "execution_count": 7,
   "metadata": {
    "tags": []
   },
   "outputs": [],
   "source": [
    "# Configurar YouTube API\n",
    "\n",
    "api_key = \" []" # inserir aqui a sua chave - \"api key\"\n",
    "\n",
    "# Biblioteca \n",
    "from googleapiclient.discovery import build\n",
    "\n",
    "# Conf. básica\n",
    "youtube = build(\"youtube\", \"v3\", developerKey=api_key)"
   ]
  },
  {
   "cell_type": "markdown",
   "metadata": {},
   "source": [
    "## Scraping Channel data"
   ]
  },
  {
   "cell_type": "code",
   "execution_count": 8,
   "metadata": {},
   "outputs": [
    {
     "data": {
      "application/json": [
       {
        "contentDetails": {
         "relatedPlaylists": {
          "likes": "",
          "uploads": "UULfk6sq06Nqh2gNS_1Ztv4Q"
         }
        },
        "etag": "mJSlcRoPyGEQq14ZMT0GFPP_pdc",
        "id": "UCLfk6sq06Nqh2gNS_1Ztv4Q",
        "kind": "youtube#channel",
        "snippet": {
         "customUrl": "@amvhell",
         "description": "Please see our website at http://www.amvhell.com for more information. I rarely read comments on YouTube.\nMost of the good content is only available at the website, because YouTube has pretty draconian copyright rules which always favor companies, regardless if its a legal fair use.",
         "localized": {
          "description": "Please see our website at http://www.amvhell.com for more information. I rarely read comments on YouTube.\nMost of the good content is only available at the website, because YouTube has pretty draconian copyright rules which always favor companies, regardless if its a legal fair use.",
          "title": "amvhell"
         },
         "publishedAt": "2005-12-14T00:42:16Z",
         "thumbnails": {
          "default": {
           "height": 88,
           "url": "https://yt3.ggpht.com/ytc/AGIKgqODH-RoEdO9GeVUurmYldU1RDF1v8MLBrPF5yFd=s88-c-k-c0x00ffffff-no-rj",
           "width": 88
          },
          "high": {
           "height": 800,
           "url": "https://yt3.ggpht.com/ytc/AGIKgqODH-RoEdO9GeVUurmYldU1RDF1v8MLBrPF5yFd=s800-c-k-c0x00ffffff-no-rj",
           "width": 800
          },
          "medium": {
           "height": 240,
           "url": "https://yt3.ggpht.com/ytc/AGIKgqODH-RoEdO9GeVUurmYldU1RDF1v8MLBrPF5yFd=s240-c-k-c0x00ffffff-no-rj",
           "width": 240
          }
         },
         "title": "amvhell"
        },
        "statistics": {
         "hiddenSubscriberCount": false,
         "subscriberCount": "24400",
         "videoCount": "68",
         "viewCount": "5270661"
        }
       },
       {
        "contentDetails": {
         "relatedPlaylists": {
          "likes": "",
          "uploads": "UUcsGSCt3H94_89mT1HDyv0g"
         }
        },
        "etag": "jRJhcv-mOmXDuiqcnq0m7NRU5qY",
        "id": "UCcsGSCt3H94_89mT1HDyv0g",
        "kind": "youtube#channel",
        "snippet": {
         "customUrl": "@amvnewschronicles",
         "description": "AMVNews.ru is a daily source for handpicked anime music videos. This is one of our channels.",
         "localized": {
          "description": "AMVNews.ru is a daily source for handpicked anime music videos. This is one of our channels.",
          "title": "AMV News Chronicles"
         },
         "publishedAt": "2013-12-02T17:20:19Z",
         "thumbnails": {
          "default": {
           "height": 88,
           "url": "https://yt3.ggpht.com/ytc/AGIKgqPPVe_vQzMLdoOljRFg6Y4fRgCHkXGvjcTdUzMP=s88-c-k-c0x00ffffff-no-rj",
           "width": 88
          },
          "high": {
           "height": 800,
           "url": "https://yt3.ggpht.com/ytc/AGIKgqPPVe_vQzMLdoOljRFg6Y4fRgCHkXGvjcTdUzMP=s800-c-k-c0x00ffffff-no-rj",
           "width": 800
          },
          "medium": {
           "height": 240,
           "url": "https://yt3.ggpht.com/ytc/AGIKgqPPVe_vQzMLdoOljRFg6Y4fRgCHkXGvjcTdUzMP=s240-c-k-c0x00ffffff-no-rj",
           "width": 240
          }
         },
         "title": "AMV News Chronicles"
        },
        "statistics": {
         "hiddenSubscriberCount": false,
         "subscriberCount": "3060",
         "videoCount": "842",
         "viewCount": "1037719"
        }
       }
      ],
      "text/plain": [
       "<IPython.core.display.JSON object>"
      ]
     },
     "execution_count": 8,
     "metadata": {
      "application/json": {
       "expanded": false,
       "root": "root"
      }
     },
     "output_type": "execute_result"
    }
   ],
   "source": [
    "\"https://commentpicker.com/youtube-channel-id.php\"\n",
    "\n",
    "#AMV - ORG > https://www.youtube.com/@AMVNewsChronicles\n",
    "#AMV - HELL > https://www.youtube.com/@amvhell\n",
    "\n",
    "channel_ids = ['UCLfk6sq06Nqh2gNS_1Ztv4Q', 'UCcsGSCt3H94_89mT1HDyv0g']\n",
    "\n",
    "request = youtube.channels().list(    \n",
    "        part= \"snippet, contentDetails, statistics\",\n",
    "        id=','.join(channel_ids)\n",
    "    )\n",
    "response = request.execute()\n",
    "JSON(response['items'])"
   ]
  },
  {
   "cell_type": "code",
   "execution_count": 9,
   "metadata": {},
   "outputs": [],
   "source": [
    "def get_channel_stats(youtube, channel_ids):\n",
    "    \"\"\"\n",
    "    Get channel statistics: title, subscriber count, view count, video count, upload playlist\n",
    "    Params:\n",
    "    \n",
    "    youtube: the build object from googleapiclient.discovery\n",
    "    channels_ids: list of channel IDs\n",
    "    \n",
    "    Returns:\n",
    "    Dataframe containing the channel statistics for all channels in the provided list: title, subscriber count, view count, video count, upload playlist\n",
    "    \n",
    "    \"\"\"\n",
    "    all_data = []\n",
    "    request = youtube.channels().list(\n",
    "                part='snippet,contentDetails,statistics',\n",
    "                id=','.join(channel_ids))\n",
    "    response = request.execute() \n",
    "    \n",
    "    for i in range(len(response['items'])):\n",
    "        data = dict(\n",
    "                    channelName = response['items'][i]['snippet']['title'],\n",
    "                    channelDescription = response['items'][i]['snippet']['description'],\n",
    "            \n",
    "                    subscribers = response['items'][i]['statistics']['subscriberCount'],\n",
    "                    views = response['items'][i]['statistics']['viewCount'],\n",
    "                    totalVideos = response['items'][i]['statistics']['videoCount'],\n",
    "            \n",
    "                    playlistID = response['items'][i]['contentDetails']['relatedPlaylists']['uploads'],\n",
    "                    channelID = response['items'][i]['id']\n",
    "                    \n",
    "                    )\n",
    "        all_data.append(data)\n",
    "    \n",
    "    return pd.DataFrame(all_data)"
   ]
  },
  {
   "cell_type": "code",
   "execution_count": 10,
   "metadata": {},
   "outputs": [
    {
     "data": {
      "text/html": [
       "<div>\n",
       "<style scoped>\n",
       "    .dataframe tbody tr th:only-of-type {\n",
       "        vertical-align: middle;\n",
       "    }\n",
       "\n",
       "    .dataframe tbody tr th {\n",
       "        vertical-align: top;\n",
       "    }\n",
       "\n",
       "    .dataframe thead th {\n",
       "        text-align: right;\n",
       "    }\n",
       "</style>\n",
       "<table border=\"1\" class=\"dataframe\">\n",
       "  <thead>\n",
       "    <tr style=\"text-align: right;\">\n",
       "      <th></th>\n",
       "      <th>channelName</th>\n",
       "      <th>channelDescription</th>\n",
       "      <th>subscribers</th>\n",
       "      <th>views</th>\n",
       "      <th>totalVideos</th>\n",
       "      <th>playlistID</th>\n",
       "      <th>channelID</th>\n",
       "    </tr>\n",
       "  </thead>\n",
       "  <tbody>\n",
       "    <tr>\n",
       "      <th>0</th>\n",
       "      <td>AMV News Chronicles</td>\n",
       "      <td>AMVNews.ru is a daily source for handpicked an...</td>\n",
       "      <td>3060</td>\n",
       "      <td>1037719</td>\n",
       "      <td>842</td>\n",
       "      <td>UUcsGSCt3H94_89mT1HDyv0g</td>\n",
       "      <td>UCcsGSCt3H94_89mT1HDyv0g</td>\n",
       "    </tr>\n",
       "    <tr>\n",
       "      <th>1</th>\n",
       "      <td>amvhell</td>\n",
       "      <td>Please see our website at http://www.amvhell.c...</td>\n",
       "      <td>24400</td>\n",
       "      <td>5270661</td>\n",
       "      <td>68</td>\n",
       "      <td>UULfk6sq06Nqh2gNS_1Ztv4Q</td>\n",
       "      <td>UCLfk6sq06Nqh2gNS_1Ztv4Q</td>\n",
       "    </tr>\n",
       "  </tbody>\n",
       "</table>\n",
       "</div>"
      ],
      "text/plain": [
       "           channelName                                 channelDescription  \\\n",
       "0  AMV News Chronicles  AMVNews.ru is a daily source for handpicked an...   \n",
       "1              amvhell  Please see our website at http://www.amvhell.c...   \n",
       "\n",
       "  subscribers    views totalVideos                playlistID  \\\n",
       "0        3060  1037719         842  UUcsGSCt3H94_89mT1HDyv0g   \n",
       "1       24400  5270661          68  UULfk6sq06Nqh2gNS_1Ztv4Q   \n",
       "\n",
       "                  channelID  \n",
       "0  UCcsGSCt3H94_89mT1HDyv0g  \n",
       "1  UCLfk6sq06Nqh2gNS_1Ztv4Q  "
      ]
     },
     "execution_count": 10,
     "metadata": {},
     "output_type": "execute_result"
    }
   ],
   "source": [
    "channel_stats = get_channel_stats(youtube, channel_ids)\n",
    "channel_stats"
   ]
  },
  {
   "cell_type": "markdown",
   "metadata": {},
   "source": [
    "## Scraping Videos IDS from Channel"
   ]
  },
  {
   "cell_type": "code",
   "execution_count": 11,
   "metadata": {},
   "outputs": [],
   "source": [
    "def get_video_ids(youtube, playlist_id):\n",
    "    \n",
    "    video_ids = []\n",
    "    \n",
    "    request = youtube.playlistItems().list(\n",
    "        part= \"snippet, contentDetails\",\n",
    "        playlistId=playlist_id,\n",
    "        maxResults = 50\n",
    "    )\n",
    "    response = request.execute()\n",
    "    \n",
    "    for item in response['items']:\n",
    "        video_ids.append(item['contentDetails']['videoId'])\n",
    "        \n",
    "    next_page_token = response.get('nextPageToken')\n",
    "    \n",
    "    while next_page_token is not None:\n",
    "        request = youtube.playlistItems().list(\n",
    "                    part= 'snippet, contentDetails',\n",
    "                    playlistId = playlist_id,\n",
    "                    maxResults = 50,\n",
    "                    pageToken = next_page_token)\n",
    "        response = request.execute()\n",
    "\n",
    "        for item in response['items']:\n",
    "            video_ids.append(item['contentDetails']['videoId'])\n",
    "\n",
    "        next_page_token = response.get('nextPageToken')\n",
    "        \n",
    "    return video_ids"
   ]
  },
  {
   "cell_type": "code",
   "execution_count": 12,
   "metadata": {},
   "outputs": [
    {
     "data": {
      "text/plain": [
       "0    UUcsGSCt3H94_89mT1HDyv0g\n",
       "1    UULfk6sq06Nqh2gNS_1Ztv4Q\n",
       "Name: playlistID, dtype: object"
      ]
     },
     "execution_count": 12,
     "metadata": {},
     "output_type": "execute_result"
    }
   ],
   "source": [
    "channel_stats['playlistID']"
   ]
  },
  {
   "cell_type": "code",
   "execution_count": 13,
   "metadata": {},
   "outputs": [],
   "source": [
    "HELL_vid_id = get_video_ids(youtube, playlist_id = 'UULfk6sq06Nqh2gNS_1Ztv4Q')\n",
    "ORG_vid_id  = get_video_ids(youtube, playlist_id = 'UUcsGSCt3H94_89mT1HDyv0g')"
   ]
  },
  {
   "cell_type": "code",
   "execution_count": 14,
   "metadata": {},
   "outputs": [
    {
     "name": "stdout",
     "output_type": "stream",
     "text": [
      "68 836\n"
     ]
    }
   ],
   "source": [
    "print(len(HELL_vid_id), len(ORG_vid_id))"
   ]
  },
  {
   "cell_type": "code",
   "execution_count": 15,
   "metadata": {},
   "outputs": [
    {
     "data": {
      "application/json": {
       "etag": "-CnaisrtMa-uW9Ib7GTGcExEEJQ",
       "items": [
        {
         "contentDetails": {
          "relatedPlaylists": {
           "likes": "",
           "uploads": "UULfk6sq06Nqh2gNS_1Ztv4Q"
          }
         },
         "etag": "mJSlcRoPyGEQq14ZMT0GFPP_pdc",
         "id": "UCLfk6sq06Nqh2gNS_1Ztv4Q",
         "kind": "youtube#channel",
         "snippet": {
          "customUrl": "@amvhell",
          "description": "Please see our website at http://www.amvhell.com for more information. I rarely read comments on YouTube.\nMost of the good content is only available at the website, because YouTube has pretty draconian copyright rules which always favor companies, regardless if its a legal fair use.",
          "localized": {
           "description": "Please see our website at http://www.amvhell.com for more information. I rarely read comments on YouTube.\nMost of the good content is only available at the website, because YouTube has pretty draconian copyright rules which always favor companies, regardless if its a legal fair use.",
           "title": "amvhell"
          },
          "publishedAt": "2005-12-14T00:42:16Z",
          "thumbnails": {
           "default": {
            "height": 88,
            "url": "https://yt3.ggpht.com/ytc/AGIKgqODH-RoEdO9GeVUurmYldU1RDF1v8MLBrPF5yFd=s88-c-k-c0x00ffffff-no-rj",
            "width": 88
           },
           "high": {
            "height": 800,
            "url": "https://yt3.ggpht.com/ytc/AGIKgqODH-RoEdO9GeVUurmYldU1RDF1v8MLBrPF5yFd=s800-c-k-c0x00ffffff-no-rj",
            "width": 800
           },
           "medium": {
            "height": 240,
            "url": "https://yt3.ggpht.com/ytc/AGIKgqODH-RoEdO9GeVUurmYldU1RDF1v8MLBrPF5yFd=s240-c-k-c0x00ffffff-no-rj",
            "width": 240
           }
          },
          "title": "amvhell"
         },
         "statistics": {
          "hiddenSubscriberCount": false,
          "subscriberCount": "24400",
          "videoCount": "68",
          "viewCount": "5270661"
         }
        },
        {
         "contentDetails": {
          "relatedPlaylists": {
           "likes": "",
           "uploads": "UUcsGSCt3H94_89mT1HDyv0g"
          }
         },
         "etag": "jRJhcv-mOmXDuiqcnq0m7NRU5qY",
         "id": "UCcsGSCt3H94_89mT1HDyv0g",
         "kind": "youtube#channel",
         "snippet": {
          "customUrl": "@amvnewschronicles",
          "description": "AMVNews.ru is a daily source for handpicked anime music videos. This is one of our channels.",
          "localized": {
           "description": "AMVNews.ru is a daily source for handpicked anime music videos. This is one of our channels.",
           "title": "AMV News Chronicles"
          },
          "publishedAt": "2013-12-02T17:20:19Z",
          "thumbnails": {
           "default": {
            "height": 88,
            "url": "https://yt3.ggpht.com/ytc/AGIKgqPPVe_vQzMLdoOljRFg6Y4fRgCHkXGvjcTdUzMP=s88-c-k-c0x00ffffff-no-rj",
            "width": 88
           },
           "high": {
            "height": 800,
            "url": "https://yt3.ggpht.com/ytc/AGIKgqPPVe_vQzMLdoOljRFg6Y4fRgCHkXGvjcTdUzMP=s800-c-k-c0x00ffffff-no-rj",
            "width": 800
           },
           "medium": {
            "height": 240,
            "url": "https://yt3.ggpht.com/ytc/AGIKgqPPVe_vQzMLdoOljRFg6Y4fRgCHkXGvjcTdUzMP=s240-c-k-c0x00ffffff-no-rj",
            "width": 240
           }
          },
          "title": "AMV News Chronicles"
         },
         "statistics": {
          "hiddenSubscriberCount": false,
          "subscriberCount": "3060",
          "videoCount": "842",
          "viewCount": "1037719"
         }
        }
       ],
       "kind": "youtube#channelListResponse",
       "pageInfo": {
        "resultsPerPage": 5,
        "totalResults": 2
       }
      },
      "text/plain": [
       "<IPython.core.display.JSON object>"
      ]
     },
     "execution_count": 15,
     "metadata": {
      "application/json": {
       "expanded": false,
       "root": "root"
      }
     },
     "output_type": "execute_result"
    }
   ],
   "source": [
    "JSON(response)"
   ]
  },
  {
   "cell_type": "markdown",
   "metadata": {},
   "source": [
    "## Videos Links"
   ]
  },
  {
   "cell_type": "code",
   "execution_count": 16,
   "metadata": {},
   "outputs": [],
   "source": [
    "def get_vids_links(video_id):\n",
    "    \n",
    "    links_vid = []\n",
    "    \n",
    "    for ids in video_id:\n",
    "        links = (f'https://www.youtube.com/watch?v={ids}')\n",
    "        links_vid.append(links)\n",
    "        \n",
    "    return pd.DataFrame(links_vid)\n",
    "\n",
    "Hell_vids_links = get_vids_links(HELL_vid_id)\n",
    "ORG_vids_links = get_vids_links(ORG_vid_id)"
   ]
  },
  {
   "cell_type": "code",
   "execution_count": 28,
   "metadata": {},
   "outputs": [],
   "source": [
    "# Salvar \"HELL\" em um documento CSV\n",
    "AMV = \"ORG\"\n",
    "title = f\"{META_DIR}/{AMV}__links.csv\"\n",
    "\n",
    "ORG_vids_links.to_csv(f\"{title}\", header=False, index=False, sep=' ', mode='a') "
   ]
  },
  {
   "cell_type": "code",
   "execution_count": 29,
   "metadata": {},
   "outputs": [],
   "source": [
    "def csv_to_txt(csv_file_path, txt_file_path):\n",
    "    \n",
    "    with open(csv_file_path, 'r') as csv_file:\n",
    "        reader = csv.reader(csv_file)\n",
    "        \n",
    "        with open(txt_file_path, 'w') as txt_file:\n",
    "            for row in reader:\n",
    "                txt_file.write('\\t'.join(row) + '\\n')"
   ]
  },
  {
   "cell_type": "code",
   "execution_count": 30,
   "metadata": {},
   "outputs": [],
   "source": [
    "# Example usage\n",
    "csv_file_path = f\"{META_DIR}/{AMV}__links.csv\"  # Provide the path to your CSV file\n",
    "txt_file_path = f'{LINK_DIR}/{AMV}__links.txt'  # Provide the desired path for the output TXT file\n",
    "\n",
    "csv_to_txt(csv_file_path, txt_file_path)"
   ]
  },
  {
   "cell_type": "markdown",
   "metadata": {},
   "source": [
    "## Metadados"
   ]
  },
  {
   "cell_type": "code",
   "execution_count": 56,
   "metadata": {},
   "outputs": [],
   "source": [
    "os.chdir(LINK_DIR)"
   ]
  },
  {
   "cell_type": "code",
   "execution_count": 57,
   "metadata": {},
   "outputs": [
    {
     "data": {
      "text/plain": [
       "['Hell__links.txt', '.ipynb_checkpoints', 'ORG__links.txt']"
      ]
     },
     "execution_count": 57,
     "metadata": {},
     "output_type": "execute_result"
    }
   ],
   "source": [
    "os.listdir()"
   ]
  },
  {
   "cell_type": "code",
   "execution_count": 59,
   "metadata": {},
   "outputs": [],
   "source": [
    "doc_name = \"ORG__links.txt\""
   ]
  },
  {
   "cell_type": "code",
   "execution_count": null,
   "metadata": {},
   "outputs": [],
   "source": [
    "#https://github.com/blackjack4494/yt-dlc\n",
    "os.system(f\"youtube-dlc -a {LINK_DIR}/{doc_name} --id --write-info-json -i --skip-download\")"
   ]
  },
  {
   "cell_type": "code",
   "execution_count": 51,
   "metadata": {},
   "outputs": [
    {
     "data": {
      "text/plain": [
       "820"
      ]
     },
     "execution_count": 61,
     "metadata": {},
     "output_type": "execute_result"
    }
   ],
   "source": [
    "# Criar documento único\n",
    "## listar em diretório todos os documentos terminados em '.json'\n",
    "\n",
    "json_dir = LINK_DIR\n",
    "json_root = os.path.join(json_dir, \"*.json\")\n",
    "file_list = glob.glob(json_root)\n",
    "\n",
    "len(file_list)\n",
    "\n",
    "# Criar documento único\n",
    "## 1. a partir de lista de documentos '.json' estabelecer um único documento json - 'merge_file2021.json'\n",
    "\n",
    "results = []\n",
    "\n",
    "for f in file_list: \n",
    "    with open(f, 'r') as infile:\n",
    "        json_file = json.load(infile)\n",
    "        results.append(json_file)\n",
    "\n",
    "# Criar documento único\n",
    "## 2. a partir de lista de documentos '.json' estabelecer um único documento json - 'merge_file2021.json'\n",
    "\n",
    "with open('merge_file.json', 'w') as outfile:\n",
    "    json.dump(results, outfile)\n",
    "\n",
    "# Criar documento único\n",
    "## 3. a partir de lista de documentos '.json' estabelecer um único documento json - 'merge_file2021.json'\n",
    "\n",
    "with open(\"merge_file.json\") as f:\n",
    "    data = json.load(f)\n",
    "\n",
    "# Criar Data Frame\n",
    "## a partir do documento json - 'merge_file2021.json', criar Data Frame\n",
    "### key value pairs / json: videoId, uploader, uploader_id, uploader_url, channel_id, channel_url, upload_date, license, creator, title, description, categories, tags, duration, age_limit, annotations, chapters, videoLink, view_count, like_count, dislike_count, average_rating, is_live, start_time, end_time, series, playlist, playlist_index\n",
    "## salvar Data Frame na pasta metadados - META_DIR\n",
    "\n",
    "df_merged_data = []\n",
    "\n",
    "for d in data:\n",
    "        videoId = d['id']\n",
    "        uploader = str.lower(d['uploader'])\n",
    "        uploader_id = d['uploader_id']\n",
    "        uploader_url = d['uploader_url']\n",
    "        channel_id = d['channel_id']\n",
    "        channel_url = d['channel_url']\n",
    "        upload_date = d['upload_date']\n",
    "        license = d['license']\n",
    "        creator = d['creator']\n",
    "        title = str.lower(d['title'])\n",
    "        description = str.lower(d['description'])\n",
    "        categories = d['categories']\n",
    "        tags = d['tags']\n",
    "        duration = d['duration']\n",
    "        age_limit = d['age_limit']\n",
    "        annotations = d['annotations']\n",
    "        chapters = d['chapters']\n",
    "        videoLink = d['webpage_url']\n",
    "        view_count = d['view_count']\n",
    "        like_count = d['like_count']\n",
    "        dislike_count = d['dislike_count']\n",
    "        average_rating = d['average_rating']\n",
    "        is_live = d['is_live']\n",
    "        start_time = d['start_time']\n",
    "        end_time = d['end_time']\n",
    "        series = d['series']\n",
    "        playlist = d['playlist']\n",
    "        playlist_index = d['playlist_index']\n",
    "        \n",
    "        df_merged_data.append((videoId, uploader, uploader_id, uploader_url, channel_id, channel_url, upload_date, license, creator, title, description, categories, tags, duration, age_limit, annotations, chapters, videoLink, view_count, like_count, dislike_count, average_rating, is_live, start_time, end_time, series, playlist, playlist_index))\n",
    "        \n",
    "df_merged_data = pd.DataFrame(df_merged_data, columns=['videoId', 'uploader', 'uploader_id', 'uploader_url', 'channel_id', 'channel_url', 'upload_date', 'license', 'creator', 'title', 'description', 'categories', 'tags', 'duration', 'age_limit', 'annotations', 'chapters', 'videoLink', 'view_count', 'like_count', 'dislike_count', 'average_rating', 'is_live', 'start_time', 'end_time', 'series', 'playlist', 'playlist_index'])\n",
    "df_merged_data.upload_date = pd.to_datetime(df_merged_data.upload_date)\n",
    "\n",
    "df_merged_data.to_csv(f\"{META_DIR}/AMV_Metadata{AMV}.csv\")\n",
    "\n",
    "#verificar documento criado\n",
    "# Salvar \"HELL\" em um documento CSV\n",
    "AMV = \"ORG\"\n",
    "\n",
    "title = f\"AMV_Metadata{AMV}.csv\"\n",
    "df = pd.read_csv(f\"{META_DIR}/{title}\")\n",
    "len(df)"
   ]
  },
  {
   "cell_type": "code",
   "execution_count": 62,
   "metadata": {},
   "outputs": [],
   "source": [
    "# Apagar em cache os documentos anteriores\n",
    "\n",
    "dircache = os.chdir(LINK_DIR)\n",
    "RESET = os.listdir(dircache) \n",
    "\n",
    "for item in RESET:\n",
    "    if item.endswith(\".json\"):\n",
    "        os.remove(item)"
   ]
  },
  {
   "cell_type": "code",
   "execution_count": 63,
   "metadata": {},
   "outputs": [
    {
     "data": {
      "text/html": [
       "<div>\n",
       "<style scoped>\n",
       "    .dataframe tbody tr th:only-of-type {\n",
       "        vertical-align: middle;\n",
       "    }\n",
       "\n",
       "    .dataframe tbody tr th {\n",
       "        vertical-align: top;\n",
       "    }\n",
       "\n",
       "    .dataframe thead th {\n",
       "        text-align: right;\n",
       "    }\n",
       "</style>\n",
       "<table border=\"1\" class=\"dataframe\">\n",
       "  <thead>\n",
       "    <tr style=\"text-align: right;\">\n",
       "      <th></th>\n",
       "      <th>Unnamed: 0</th>\n",
       "      <th>videoId</th>\n",
       "      <th>uploader</th>\n",
       "      <th>uploader_id</th>\n",
       "      <th>uploader_url</th>\n",
       "      <th>channel_id</th>\n",
       "      <th>channel_url</th>\n",
       "      <th>upload_date</th>\n",
       "      <th>license</th>\n",
       "      <th>creator</th>\n",
       "      <th>...</th>\n",
       "      <th>view_count</th>\n",
       "      <th>like_count</th>\n",
       "      <th>dislike_count</th>\n",
       "      <th>average_rating</th>\n",
       "      <th>is_live</th>\n",
       "      <th>start_time</th>\n",
       "      <th>end_time</th>\n",
       "      <th>series</th>\n",
       "      <th>playlist</th>\n",
       "      <th>playlist_index</th>\n",
       "    </tr>\n",
       "  </thead>\n",
       "  <tbody>\n",
       "    <tr>\n",
       "      <th>0</th>\n",
       "      <td>0</td>\n",
       "      <td>OOMcKd4qfCo</td>\n",
       "      <td>amv news chronicles</td>\n",
       "      <td>NaN</td>\n",
       "      <td>http://www.youtube.com/@AMVNewsChronicles</td>\n",
       "      <td>UCcsGSCt3H94_89mT1HDyv0g</td>\n",
       "      <td>http://www.youtube.com/channel/UCcsGSCt3H94_89...</td>\n",
       "      <td>2022-03-19</td>\n",
       "      <td>NaN</td>\n",
       "      <td>NaN</td>\n",
       "      <td>...</td>\n",
       "      <td>1597</td>\n",
       "      <td>72.0</td>\n",
       "      <td>NaN</td>\n",
       "      <td>NaN</td>\n",
       "      <td>NaN</td>\n",
       "      <td>NaN</td>\n",
       "      <td>NaN</td>\n",
       "      <td>NaN</td>\n",
       "      <td>NaN</td>\n",
       "      <td>NaN</td>\n",
       "    </tr>\n",
       "  </tbody>\n",
       "</table>\n",
       "<p>1 rows × 29 columns</p>\n",
       "</div>"
      ],
      "text/plain": [
       "   Unnamed: 0      videoId             uploader  uploader_id  \\\n",
       "0           0  OOMcKd4qfCo  amv news chronicles          NaN   \n",
       "\n",
       "                                uploader_url                channel_id  \\\n",
       "0  http://www.youtube.com/@AMVNewsChronicles  UCcsGSCt3H94_89mT1HDyv0g   \n",
       "\n",
       "                                         channel_url upload_date  license  \\\n",
       "0  http://www.youtube.com/channel/UCcsGSCt3H94_89...  2022-03-19      NaN   \n",
       "\n",
       "   creator  ... view_count like_count dislike_count average_rating  is_live  \\\n",
       "0      NaN  ...       1597       72.0           NaN            NaN      NaN   \n",
       "\n",
       "   start_time  end_time  series playlist  playlist_index  \n",
       "0         NaN       NaN     NaN      NaN             NaN  \n",
       "\n",
       "[1 rows x 29 columns]"
      ]
     },
     "execution_count": 63,
     "metadata": {},
     "output_type": "execute_result"
    }
   ],
   "source": [
    "df.head(1)"
   ]
  },
  {
   "cell_type": "code",
   "execution_count": null,
   "metadata": {},
   "outputs": [],
   "source": []
  },
  {
   "cell_type": "markdown",
   "metadata": {},
   "source": [
    "## Vids_download"
   ]
  },
  {
   "cell_type": "code",
   "execution_count": 73,
   "metadata": {
    "tags": []
   },
   "outputs": [
    {
     "data": {
      "text/plain": [
       "['Hell__links.txt', '.ipynb_checkpoints', 'ORG__links.txt']"
      ]
     },
     "execution_count": 73,
     "metadata": {},
     "output_type": "execute_result"
    }
   ],
   "source": [
    "os.chdir(f\"{LINK_DIR}\")\n",
    "os.listdir()"
   ]
  },
  {
   "cell_type": "code",
   "execution_count": 74,
   "metadata": {},
   "outputs": [],
   "source": [
    "doc_path = LINK_DIR\n",
    "doc_name = \"ORG__links.txt\"\n",
    "link = f'{doc_path}/{doc_name}'\n",
    "print(link)"
   ]
  },
  {
   "cell_type": "code",
   "execution_count": null,
   "metadata": {},
   "outputs": [],
   "source": [
    "#-f worstvideo | -f mp4 | -f 'worstvideo[ext=mp4]     /best[ext=mp4]/best'\n",
    "\n",
    "os.chdir(f\"{VIDS_DIR}\")\n",
    "os.system(f\"youtube-dlc -a {link} -i --id -f worstvideo[ext=mp4]\")"
   ]
  },
  {
   "cell_type": "markdown",
   "metadata": {},
   "source": [
    "## Audio_download"
   ]
  },
  {
   "cell_type": "code",
   "execution_count": 115,
   "metadata": {},
   "outputs": [
    {
     "data": {
      "text/plain": [
       "['Hell__links.txt', '.ipynb_checkpoints', 'ORG__links.txt']"
      ]
     },
     "execution_count": 115,
     "metadata": {},
     "output_type": "execute_result"
    }
   ],
   "source": [
    "os.chdir(f\"{LINK_DIR}\")\n",
    "os.listdir()"
   ]
  },
  {
   "cell_type": "code",
   "execution_count": 117,
   "metadata": {},
   "outputs": [
    {
     "name": "stdout",
     "output_type": "stream",
     "text": [
      "/Volumes/Elements/Dev/TCC/data/links/ORG__links.txt\n"
     ]
    }
   ],
   "source": [
    "doc_path = LINK_DIR\n",
    "doc_name = \"ORG__links.txt\"\n",
    "link = f'{doc_path}/{doc_name}'\n",
    "print(link)"
   ]
  },
  {
   "cell_type": "code",
   "execution_count": null,
   "metadata": {},
   "outputs": [
    {
     "name": "stdout",
     "output_type": "stream",
     "text": [
      "[youtube] OOMcKd4qfCo: Downloading webpage\n",
      "[download] Destination: OOMcKd4qfCo.webm\n",
      "[download] 100% of 3.40MiB in 00:4201KiB/s ETA 00:003\n",
      "[ffmpeg] Destination: OOMcKd4qfCo.wav\n",
      "Deleting original file OOMcKd4qfCo.webm (pass -k to keep)\n",
      "[youtube] O421QP_UkAc: Downloading webpage\n",
      "[download] Destination: O421QP_UkAc.webm\n",
      "[download] 100% of 2.82MiB in 00:4162KiB/s ETA 00:005\n",
      "[ffmpeg] Destination: O421QP_UkAc.wav\n",
      "Deleting original file O421QP_UkAc.webm (pass -k to keep)\n",
      "[youtube] Y7-t7QTgQws: Downloading webpage\n",
      "[download] Destination: Y7-t7QTgQws.webm\n",
      "[download] 100% of 1.92MiB in 00:2855KiB/s ETA 00:007\n",
      "[ffmpeg] Destination: Y7-t7QTgQws.wav\n",
      "Deleting original file Y7-t7QTgQws.webm (pass -k to keep)\n",
      "[youtube] xoiYRIs3Ayw: Downloading webpage\n"
     ]
    },
    {
     "name": "stderr",
     "output_type": "stream",
     "text": [
      "ERROR: unable to download video data: HTTP Error 403: Forbidden\n"
     ]
    },
    {
     "name": "stdout",
     "output_type": "stream",
     "text": [
      "[youtube] DpdVWpFav0Q: Downloading webpage\n",
      "[youtube] DpdVWpFav0Q: Downloading MPD manifest\n",
      "[dashsegments] Total fragments: 15\n",
      "[download] Destination: DpdVWpFav0Q.webm\n",
      "[download] 100% of 2.03MiB in 00:03.97MiB/s ETA 00:00057\n",
      "[ffmpeg] Destination: DpdVWpFav0Q.wav\n",
      "Deleting original file DpdVWpFav0Q.webm (pass -k to keep)\n",
      "[youtube] SpSyOT9EiXQ: Downloading webpage\n",
      "[youtube] SpSyOT9EiXQ: Downloading MPD manifest\n",
      "[dashsegments] Total fragments: 22\n",
      "[download] Destination: SpSyOT9EiXQ.webm\n",
      "[download] 100% of 2.99MiB in 00:04.73MiB/s ETA 00:00010\n",
      "[ffmpeg] Destination: SpSyOT9EiXQ.wav\n",
      "Deleting original file SpSyOT9EiXQ.webm (pass -k to keep)\n",
      "[youtube] S3mNbNXuoZU: Downloading webpage\n",
      "[youtube] S3mNbNXuoZU: Downloading MPD manifest\n",
      "[dashsegments] Total fragments: 17\n",
      "[download] Destination: S3mNbNXuoZU.webm\n",
      "[download] 100% of 2.28MiB in 00:03.30MiB/s ETA 00:00018\n",
      "[ffmpeg] Destination: S3mNbNXuoZU.wav\n",
      "Deleting original file S3mNbNXuoZU.webm (pass -k to keep)\n",
      "[youtube] fZX77WmzuJE: Downloading webpage\n",
      "[youtube] fZX77WmzuJE: Downloading MPD manifest\n",
      "[dashsegments] Total fragments: 15\n",
      "[download] Destination: fZX77WmzuJE.webm\n",
      "[download] 100% of 2.11MiB in 00:02.82MiB/s ETA 00:000\n",
      "[ffmpeg] Destination: fZX77WmzuJE.wav\n",
      "Deleting original file fZX77WmzuJE.webm (pass -k to keep)\n",
      "[youtube] Vb3lg8F2Kw0: Downloading webpage\n",
      "[youtube] Vb3lg8F2Kw0: Downloading MPD manifest\n",
      "[dashsegments] Total fragments: 14\n",
      "[download] Destination: Vb3lg8F2Kw0.webm\n",
      "[download] 100% of 2.08MiB in 00:01.78MiB/s ETA 00:00023\n",
      "[ffmpeg] Destination: Vb3lg8F2Kw0.wav\n",
      "Deleting original file Vb3lg8F2Kw0.webm (pass -k to keep)\n",
      "[youtube] verSBcvATY8: Downloading webpage\n",
      "[download] Destination: verSBcvATY8.webm\n",
      "[download] 100% of 4.30MiB in 01:0350KiB/s ETA 00:007nown ETA\n",
      "[ffmpeg] Destination: verSBcvATY8.wav\n",
      "Deleting original file verSBcvATY8.webm (pass -k to keep)\n",
      "[youtube] EI7Btm6XgmY: Downloading webpage\n",
      "[youtube] EI7Btm6XgmY: Downloading MPD manifest\n",
      "[dashsegments] Total fragments: 20\n",
      "[download] Destination: EI7Btm6XgmY.webm\n",
      "[download] 100% of 2.89MiB in 00:03.18MiB/s ETA 00:00035\n",
      "[ffmpeg] Destination: EI7Btm6XgmY.wav\n",
      "Deleting original file EI7Btm6XgmY.webm (pass -k to keep)\n",
      "[youtube] z-gtR8OlFOc: Downloading webpage\n"
     ]
    },
    {
     "name": "stderr",
     "output_type": "stream",
     "text": [
      "ERROR: unable to download video data: HTTP Error 403: Forbidden\n"
     ]
    },
    {
     "name": "stdout",
     "output_type": "stream",
     "text": [
      "[youtube] 0nMNl97-_7k: Downloading webpage\n",
      "[download] Destination: 0nMNl97-_7k.webm\n",
      "[download] 100% of 2.51MiB in 00:4926KiB/s ETA 00:006\n",
      "[ffmpeg] Destination: 0nMNl97-_7k.wav\n",
      "Deleting original file 0nMNl97-_7k.webm (pass -k to keep)\n",
      "[youtube] 3zCZwy-wL8s: Downloading webpage\n",
      "[youtube] 3zCZwy-wL8s: Downloading MPD manifest\n",
      "[dashsegments] Total fragments: 18\n",
      "[download] Destination: 3zCZwy-wL8s.webm\n",
      "[download] 100% of 2.53MiB in 00:04.72MiB/s ETA 00:00059\n",
      "[ffmpeg] Destination: 3zCZwy-wL8s.wav\n",
      "Deleting original file 3zCZwy-wL8s.webm (pass -k to keep)\n",
      "[youtube] 9nvxUP-8NN8: Downloading webpage\n",
      "[download] Destination: 9nvxUP-8NN8.webm\n",
      "[download] 100% of 2.13MiB in 00:3149KiB/s ETA 00:005\n",
      "[ffmpeg] Destination: 9nvxUP-8NN8.wav\n",
      "Deleting original file 9nvxUP-8NN8.webm (pass -k to keep)\n",
      "[youtube] JbfgA8Ccqb0: Downloading webpage\n",
      "[youtube] JbfgA8Ccqb0: Downloading MPD manifest\n",
      "[dashsegments] Total fragments: 16\n",
      "[download] Destination: JbfgA8Ccqb0.webm\n",
      "[download] 100% of 2.32MiB in 00:032.29KiB/s ETA 00:00\n",
      "[ffmpeg] Destination: JbfgA8Ccqb0.wav\n",
      "Deleting original file JbfgA8Ccqb0.webm (pass -k to keep)\n",
      "[youtube] IyAHzku3pzA: Downloading webpage\n",
      "[youtube] IyAHzku3pzA: Downloading MPD manifest\n",
      "[dashsegments] Total fragments: 15\n",
      "[download] Destination: IyAHzku3pzA.webm\n",
      "[download] 100% of 2.00MiB in 00:02.41MiB/s ETA 00:00040\n",
      "[ffmpeg] Destination: IyAHzku3pzA.wav\n",
      "Deleting original file IyAHzku3pzA.webm (pass -k to keep)\n",
      "[youtube] ClMtPFHHZVk: Downloading webpage\n",
      "[youtube] ClMtPFHHZVk: Downloading MPD manifest\n",
      "[dashsegments] Total fragments: 17\n",
      "[download] Destination: ClMtPFHHZVk.webm\n",
      "[download] 100% of 2.36MiB in 00:03.65MiB/s ETA 00:000\n",
      "[ffmpeg] Destination: ClMtPFHHZVk.wav\n",
      "Deleting original file ClMtPFHHZVk.webm (pass -k to keep)\n",
      "[youtube] G1mpKt1E_0g: Downloading webpage\n",
      "[youtube] G1mpKt1E_0g: Downloading MPD manifest\n",
      "[dashsegments] Total fragments: 18\n",
      "[download] Destination: G1mpKt1E_0g.webm\n",
      "[download] 100% of 2.69MiB in 00:03.41MiB/s ETA 00:000\n",
      "[ffmpeg] Destination: G1mpKt1E_0g.wav\n",
      "Deleting original file G1mpKt1E_0g.webm (pass -k to keep)\n",
      "[youtube] mwNHpf28Hq0: Downloading webpage\n",
      "[youtube] mwNHpf28Hq0: Downloading MPD manifest\n",
      "[dashsegments] Total fragments: 14\n",
      "[download] Destination: mwNHpf28Hq0.webm\n",
      "[download] 100% of 1.84MiB in 00:01.41MiB/s ETA 00:00017\n",
      "[ffmpeg] Destination: mwNHpf28Hq0.wav\n",
      "Deleting original file mwNHpf28Hq0.webm (pass -k to keep)\n",
      "[youtube] avmhS-WZM1k: Downloading webpage\n",
      "[youtube] avmhS-WZM1k: Downloading MPD manifest\n",
      "[dashsegments] Total fragments: 26\n",
      "[download] Destination: avmhS-WZM1k.webm\n",
      "[download] 100% of 4.02MiB in 00:05.63MiB/s ETA 00:000\n",
      "[ffmpeg] Destination: avmhS-WZM1k.wav\n",
      "Deleting original file avmhS-WZM1k.webm (pass -k to keep)\n",
      "[youtube] zmXFJ0oNVvg: Downloading webpage\n",
      "[youtube] zmXFJ0oNVvg: Downloading MPD manifest\n",
      "[dashsegments] Total fragments: 15\n",
      "[download] Destination: zmXFJ0oNVvg.webm\n",
      "[download] 100% of 2.17MiB in 00:03.63MiB/s ETA 00:00046\n",
      "[ffmpeg] Destination: zmXFJ0oNVvg.wav\n",
      "Deleting original file zmXFJ0oNVvg.webm (pass -k to keep)\n",
      "[youtube] zN7zCse4uj4: Downloading webpage\n",
      "[youtube] zN7zCse4uj4: Downloading MPD manifest\n",
      "[dashsegments] Total fragments: 22\n",
      "[download] Destination: zN7zCse4uj4.webm\n",
      "[download] 100% of 3.38MiB in 00:05.24MiB/s ETA 00:00041\n",
      "[ffmpeg] Destination: zN7zCse4uj4.wav\n",
      "Deleting original file zN7zCse4uj4.webm (pass -k to keep)\n",
      "[youtube] Csvhd8YZhBc: Downloading webpage\n",
      "[download] Destination: Csvhd8YZhBc.webm\n",
      "[download] 100% of 2.84MiB in 00:5459KiB/s ETA 00:008\n",
      "[ffmpeg] Destination: Csvhd8YZhBc.wav\n",
      "Deleting original file Csvhd8YZhBc.webm (pass -k to keep)\n",
      "[youtube] 2uxssRgKFW8: Downloading webpage\n",
      "[download] Destination: 2uxssRgKFW8.webm\n",
      "[download] 100% of 2.07MiB in 00:4082KiB/s ETA 00:004\n",
      "[ffmpeg] Destination: 2uxssRgKFW8.wav\n",
      "Deleting original file 2uxssRgKFW8.webm (pass -k to keep)\n",
      "[youtube] opaRb5py7yE: Downloading webpage\n",
      "[youtube] opaRb5py7yE: Downloading MPD manifest\n",
      "[dashsegments] Total fragments: 21\n",
      "[download] Destination: opaRb5py7yE.m4a\n",
      "[download] 100% of 2.94MiB in 00:18.85MiB/s ETA 00:0068\n",
      "[ffmpeg] Correcting container in \"opaRb5py7yE.m4a\"\n",
      "[ffmpeg] Destination: opaRb5py7yE.wav\n",
      "Deleting original file opaRb5py7yE.m4a (pass -k to keep)\n",
      "[youtube] GJZI-vSdqnU: Downloading webpage\n"
     ]
    },
    {
     "name": "stderr",
     "output_type": "stream",
     "text": [
      "ERROR: unable to download video data: HTTP Error 403: Forbidden\n"
     ]
    },
    {
     "name": "stdout",
     "output_type": "stream",
     "text": [
      "[youtube] 22PtFSzhq1I: Downloading webpage\n",
      "[download] Destination: 22PtFSzhq1I.webm\n",
      "[download] 100% of 2.96MiB in 00:4351KiB/s ETA 00:006\n",
      "[ffmpeg] Destination: 22PtFSzhq1I.wav\n",
      "Deleting original file 22PtFSzhq1I.webm (pass -k to keep)\n",
      "[youtube] EUT_XF7IP4A: Downloading webpage\n",
      "[download] Destination: EUT_XF7IP4A.webm\n",
      "[download] 100% of 3.51MiB in 00:4796KiB/s ETA 00:009\n",
      "[ffmpeg] Destination: EUT_XF7IP4A.wav\n",
      "Deleting original file EUT_XF7IP4A.webm (pass -k to keep)\n",
      "[youtube] EBCp3uvigNY: Downloading webpage\n",
      "[youtube] EBCp3uvigNY: Downloading MPD manifest\n",
      "[dashsegments] Total fragments: 22\n",
      "[download] Destination: EBCp3uvigNY.webm\n",
      "[download] 100% of 3.23MiB in 00:17.55MiB/s ETA 00:00014\n",
      "[ffmpeg] Destination: EBCp3uvigNY.wav\n",
      "Deleting original file EBCp3uvigNY.webm (pass -k to keep)\n",
      "[youtube] DzNXvEaplss: Downloading webpage\n",
      "[download] Destination: DzNXvEaplss.webm\n",
      "[download] 100% of 2.89MiB in 00:3996KiB/s ETA 00:005\n",
      "[ffmpeg] Destination: DzNXvEaplss.wav\n",
      "Deleting original file DzNXvEaplss.webm (pass -k to keep)\n",
      "[youtube] bR0E4LYGItE: Downloading webpage\n",
      "[youtube] bR0E4LYGItE: Downloading MPD manifest\n",
      "[dashsegments] Total fragments: 18\n",
      "[download] Destination: bR0E4LYGItE.webm\n",
      "[download] 100% of 2.54MiB in 00:03.42MiB/s ETA 00:00011\n",
      "[ffmpeg] Destination: bR0E4LYGItE.wav\n",
      "Deleting original file bR0E4LYGItE.webm (pass -k to keep)\n",
      "[youtube] 9vb69LoTNEA: Downloading webpage\n",
      "[download] Destination: 9vb69LoTNEA.webm\n",
      "[download] 100% of 2.44MiB in 00:3496KiB/s ETA 00:002\n",
      "[ffmpeg] Destination: 9vb69LoTNEA.wav\n",
      "Deleting original file 9vb69LoTNEA.webm (pass -k to keep)\n",
      "[youtube] u9ceXqBSKcY: Downloading webpage\n",
      "[download] Destination: u9ceXqBSKcY.webm\n",
      "[download] 100% of 2.23MiB in 00:2900KiB/s ETA 00:000\n",
      "[ffmpeg] Destination: u9ceXqBSKcY.wav\n",
      "Deleting original file u9ceXqBSKcY.webm (pass -k to keep)\n",
      "[youtube] rLElVYMs_uE: Downloading webpage\n",
      "[download] Destination: rLElVYMs_uE.webm\n",
      "[download] 100% of 2.78MiB in 00:5346KiB/s ETA 00:003\n",
      "[ffmpeg] Destination: rLElVYMs_uE.wav\n"
     ]
    }
   ],
   "source": [
    "#-f worstvideo | -f mp4 | -f 'worstvideo[ext=mp4]     /best[ext=mp4]/best'\n",
    "\n",
    "os.chdir(f\"{AUDIO_DIR}\")\n",
    "os.system(f\"youtube-dlc -a {link} -x --audio-format wav -i --id\")"
   ]
  },
  {
   "cell_type": "code",
   "execution_count": 120,
   "metadata": {},
   "outputs": [
    {
     "data": {
      "text/plain": [
       "'/Volumes/Elements/Dev/TCC/data/sample/inputs/audio_input'"
      ]
     },
     "execution_count": 120,
     "metadata": {},
     "output_type": "execute_result"
    }
   ],
   "source": [
    "AUDIO_DIR"
   ]
  },
  {
   "cell_type": "markdown",
   "metadata": {},
   "source": [
    "## Lirics Download"
   ]
  },
  {
   "cell_type": "markdown",
   "metadata": {},
   "source": [
    "Usando Youtube-dl\n",
    "\n",
    "Digite o codigo abaixo em seu \"Prompt\" (Windows) ou \"Terminal\" (OS):\n",
    "\n",
    "youtube-dlc https://youtu.be/tiDgy6S3NMQ -i --id --write-auto-sub --sub-format best --convert-subs vtt --skip-download"
   ]
  },
  {
   "cell_type": "code",
   "execution_count": 27,
   "metadata": {},
   "outputs": [],
   "source": [
    "os.chdir(f\"{LINK_DIR}\")"
   ]
  },
  {
   "cell_type": "code",
   "execution_count": 28,
   "metadata": {},
   "outputs": [
    {
     "data": {
      "text/plain": [
       "['Hell__links.txt', '.ipynb_checkpoints', 'ORG__links.txt']"
      ]
     },
     "execution_count": 28,
     "metadata": {},
     "output_type": "execute_result"
    }
   ],
   "source": [
    "os.listdir()"
   ]
  },
  {
   "cell_type": "code",
   "execution_count": 29,
   "metadata": {},
   "outputs": [],
   "source": [
    "doc_path = LINK_DIR\n",
    "doc_name = \"Hell__links.txt\"\n",
    "link = f'{doc_path}/{doc_name}'"
   ]
  },
  {
   "cell_type": "code",
   "execution_count": null,
   "metadata": {},
   "outputs": [],
   "source": [
    "os.system(f\"youtube-dlc -a {link} -i --id --write-auto-sub --sub-format best --convert-subs vtt --skip-download\")"
   ]
  },
  {
   "cell_type": "code",
   "execution_count": 31,
   "metadata": {},
   "outputs": [
    {
     "data": {
      "text/plain": [
       "15"
      ]
     },
     "execution_count": 31,
     "metadata": {},
     "output_type": "execute_result"
    }
   ],
   "source": [
    "# Criar documento único\n",
    "## 1. listar em diretório todos os documentos terminados em '.vtt'\n",
    "\n",
    "vtt_dir = LINK_DIR\n",
    "vtt_root = os.path.join(vtt_dir, \"*.vtt\")\n",
    "file_list = glob.glob(vtt_root)\n",
    "\n",
    "len(file_list)"
   ]
  },
  {
   "cell_type": "code",
   "execution_count": 32,
   "metadata": {},
   "outputs": [],
   "source": [
    "results = []\n",
    "\n",
    "for file in file_list:\n",
    "    data = webvtt.read(file)\n",
    "    \n",
    "    for sub in data:\n",
    "        \n",
    "        _id = data.file\n",
    "        start = sub.start  # start timestamp in text format\n",
    "        end = sub.end  # end timestamp in text format\n",
    "        text = sub.text  # caption text\n",
    "\n",
    "        results.append([_id, start, end,  text])\n",
    "        results_df = pd.DataFrame(results, columns=['id','start', 'end', 'text'])"
   ]
  },
  {
   "cell_type": "code",
   "execution_count": 33,
   "metadata": {},
   "outputs": [
    {
     "data": {
      "text/html": [
       "<div>\n",
       "<style scoped>\n",
       "    .dataframe tbody tr th:only-of-type {\n",
       "        vertical-align: middle;\n",
       "    }\n",
       "\n",
       "    .dataframe tbody tr th {\n",
       "        vertical-align: top;\n",
       "    }\n",
       "\n",
       "    .dataframe thead th {\n",
       "        text-align: right;\n",
       "    }\n",
       "</style>\n",
       "<table border=\"1\" class=\"dataframe\">\n",
       "  <thead>\n",
       "    <tr style=\"text-align: right;\">\n",
       "      <th></th>\n",
       "      <th>id</th>\n",
       "      <th>start</th>\n",
       "      <th>end</th>\n",
       "      <th>text</th>\n",
       "    </tr>\n",
       "  </thead>\n",
       "  <tbody>\n",
       "    <tr>\n",
       "      <th>0</th>\n",
       "      <td>/Volumes/Elements/Dev/TCC/data/links/Mwul17m-t...</td>\n",
       "      <td>00:00:00.179</td>\n",
       "      <td>00:00:04.190</td>\n",
       "      <td>\\nwhat is that I got bored one day  and I put...</td>\n",
       "    </tr>\n",
       "  </tbody>\n",
       "</table>\n",
       "</div>"
      ],
      "text/plain": [
       "                                                  id         start  \\\n",
       "0  /Volumes/Elements/Dev/TCC/data/links/Mwul17m-t...  00:00:00.179   \n",
       "\n",
       "            end                                               text  \n",
       "0  00:00:04.190   \\nwhat is that I got bored one day  and I put...  "
      ]
     },
     "execution_count": 33,
     "metadata": {},
     "output_type": "execute_result"
    }
   ],
   "source": [
    "results_df.head(1)"
   ]
  },
  {
   "cell_type": "code",
   "execution_count": null,
   "metadata": {},
   "outputs": [],
   "source": [
    "for i in results_df.text:\n",
    "    print(i)"
   ]
  },
  {
   "cell_type": "code",
   "execution_count": 34,
   "metadata": {},
   "outputs": [],
   "source": [
    "### Criar documento único\n",
    "## 3. Salvar Data Frame a partir de 'results' com as colunas id, start, end e text.\n",
    "AMV= \"Hell\"\n",
    "results_df.to_csv(f\"{META_DIR}/SubFirstSum{AMV}.csv\")"
   ]
  },
  {
   "cell_type": "code",
   "execution_count": 35,
   "metadata": {},
   "outputs": [],
   "source": [
    "# Apagar em cache os documentos anteriores\n",
    "\n",
    "dircache = os.chdir(LINK_DIR)\n",
    "RESET = os.listdir(dircache) \n",
    "\n",
    "for item in RESET:\n",
    "    if item.endswith(\".vtt\"):\n",
    "        os.remove(item)"
   ]
  },
  {
   "cell_type": "markdown",
   "metadata": {},
   "source": [
    "## Limpando id"
   ]
  },
  {
   "cell_type": "code",
   "execution_count": 105,
   "metadata": {},
   "outputs": [],
   "source": [
    "AMV= \"ORG\"\n",
    "df = pd.read_csv(f\"{META_DIR}/SubFirstSum{AMV}.csv\")"
   ]
  },
  {
   "cell_type": "code",
   "execution_count": 106,
   "metadata": {},
   "outputs": [
    {
     "data": {
      "text/html": [
       "<div>\n",
       "<style scoped>\n",
       "    .dataframe tbody tr th:only-of-type {\n",
       "        vertical-align: middle;\n",
       "    }\n",
       "\n",
       "    .dataframe tbody tr th {\n",
       "        vertical-align: top;\n",
       "    }\n",
       "\n",
       "    .dataframe thead th {\n",
       "        text-align: right;\n",
       "    }\n",
       "</style>\n",
       "<table border=\"1\" class=\"dataframe\">\n",
       "  <thead>\n",
       "    <tr style=\"text-align: right;\">\n",
       "      <th></th>\n",
       "      <th>Unnamed: 0</th>\n",
       "      <th>id</th>\n",
       "      <th>start</th>\n",
       "      <th>end</th>\n",
       "      <th>text</th>\n",
       "    </tr>\n",
       "  </thead>\n",
       "  <tbody>\n",
       "    <tr>\n",
       "      <th>0</th>\n",
       "      <td>0</td>\n",
       "      <td>/Volumes/Elements/Dev/TCC/data/links/Y7-t7QTgQ...</td>\n",
       "      <td>00:00:00.390</td>\n",
       "      <td>00:00:06.150</td>\n",
       "      <td>\\n[Music]  so  [Music]  [Music]  so  uh  [Mus...</td>\n",
       "    </tr>\n",
       "    <tr>\n",
       "      <th>1</th>\n",
       "      <td>1</td>\n",
       "      <td>/Volumes/Elements/Dev/TCC/data/links/Y7-t7QTgQ...</td>\n",
       "      <td>00:00:06.150</td>\n",
       "      <td>00:00:06.160</td>\n",
       "      <td>\\n</td>\n",
       "    </tr>\n",
       "  </tbody>\n",
       "</table>\n",
       "</div>"
      ],
      "text/plain": [
       "   Unnamed: 0                                                 id  \\\n",
       "0           0  /Volumes/Elements/Dev/TCC/data/links/Y7-t7QTgQ...   \n",
       "1           1  /Volumes/Elements/Dev/TCC/data/links/Y7-t7QTgQ...   \n",
       "\n",
       "          start           end  \\\n",
       "0  00:00:00.390  00:00:06.150   \n",
       "1  00:00:06.150  00:00:06.160   \n",
       "\n",
       "                                                text  \n",
       "0   \\n[Music]  so  [Music]  [Music]  so  uh  [Mus...  \n",
       "1                                                \\n   "
      ]
     },
     "execution_count": 106,
     "metadata": {},
     "output_type": "execute_result"
    }
   ],
   "source": [
    "df.head(2)"
   ]
  },
  {
   "cell_type": "code",
   "execution_count": 107,
   "metadata": {},
   "outputs": [
    {
     "data": {
      "text/plain": [
       "2508"
      ]
     },
     "execution_count": 107,
     "metadata": {},
     "output_type": "execute_result"
    }
   ],
   "source": [
    "len(df)"
   ]
  },
  {
   "cell_type": "code",
   "execution_count": 108,
   "metadata": {},
   "outputs": [
    {
     "data": {
      "text/plain": [
       "'/Volumes/Elements/Dev/TCC/data/links/Y7-t7QTgQws.en.vtt'"
      ]
     },
     "execution_count": 108,
     "metadata": {},
     "output_type": "execute_result"
    }
   ],
   "source": [
    "df.id[1]"
   ]
  },
  {
   "cell_type": "code",
   "execution_count": 109,
   "metadata": {},
   "outputs": [],
   "source": [
    "# criar colunas com o id e link para os vídeos\n",
    "df[['dir_path','sub_doc']] = df.id.str.split(f\"{LINK_DIR}/\", expand=True)"
   ]
  },
  {
   "cell_type": "code",
   "execution_count": 110,
   "metadata": {},
   "outputs": [],
   "source": [
    "df[['video_id', \"doc\"]] = df.sub_doc.str.split(\".en.vtt\",expand=True)\n",
    "df[\"video_link\"] = \"https://www.youtube.com/watch?v=\" + df.video_id"
   ]
  },
  {
   "cell_type": "code",
   "execution_count": 111,
   "metadata": {},
   "outputs": [],
   "source": [
    "df.drop(['dir_path', \"doc\", 'sub_doc'], axis=1, inplace=True)\n",
    "df.rename(columns={'id': 'path'}, inplace = True)\n",
    "df = df[['video_id','start', 'end', 'text','video_link', 'path']]"
   ]
  },
  {
   "cell_type": "code",
   "execution_count": 112,
   "metadata": {},
   "outputs": [
    {
     "data": {
      "text/html": [
       "<div>\n",
       "<style scoped>\n",
       "    .dataframe tbody tr th:only-of-type {\n",
       "        vertical-align: middle;\n",
       "    }\n",
       "\n",
       "    .dataframe tbody tr th {\n",
       "        vertical-align: top;\n",
       "    }\n",
       "\n",
       "    .dataframe thead th {\n",
       "        text-align: right;\n",
       "    }\n",
       "</style>\n",
       "<table border=\"1\" class=\"dataframe\">\n",
       "  <thead>\n",
       "    <tr style=\"text-align: right;\">\n",
       "      <th></th>\n",
       "      <th>video_id</th>\n",
       "      <th>start</th>\n",
       "      <th>end</th>\n",
       "      <th>text</th>\n",
       "      <th>video_link</th>\n",
       "      <th>path</th>\n",
       "    </tr>\n",
       "  </thead>\n",
       "  <tbody>\n",
       "    <tr>\n",
       "      <th>0</th>\n",
       "      <td>Y7-t7QTgQws</td>\n",
       "      <td>00:00:00.390</td>\n",
       "      <td>00:00:06.150</td>\n",
       "      <td>\\n[Music]  so  [Music]  [Music]  so  uh  [Mus...</td>\n",
       "      <td>https://www.youtube.com/watch?v=Y7-t7QTgQws</td>\n",
       "      <td>/Volumes/Elements/Dev/TCC/data/links/Y7-t7QTgQ...</td>\n",
       "    </tr>\n",
       "    <tr>\n",
       "      <th>1</th>\n",
       "      <td>Y7-t7QTgQws</td>\n",
       "      <td>00:00:06.150</td>\n",
       "      <td>00:00:06.160</td>\n",
       "      <td>\\n</td>\n",
       "      <td>https://www.youtube.com/watch?v=Y7-t7QTgQws</td>\n",
       "      <td>/Volumes/Elements/Dev/TCC/data/links/Y7-t7QTgQ...</td>\n",
       "    </tr>\n",
       "    <tr>\n",
       "      <th>2</th>\n",
       "      <td>Y7-t7QTgQws</td>\n",
       "      <td>00:00:06.160</td>\n",
       "      <td>00:00:07.570</td>\n",
       "      <td></td>\n",
       "      <td>https://www.youtube.com/watch?v=Y7-t7QTgQws</td>\n",
       "      <td>/Volumes/Elements/Dev/TCC/data/links/Y7-t7QTgQ...</td>\n",
       "    </tr>\n",
       "    <tr>\n",
       "      <th>3</th>\n",
       "      <td>Y7-t7QTgQws</td>\n",
       "      <td>00:00:07.570</td>\n",
       "      <td>00:00:07.580</td>\n",
       "      <td>\\n</td>\n",
       "      <td>https://www.youtube.com/watch?v=Y7-t7QTgQws</td>\n",
       "      <td>/Volumes/Elements/Dev/TCC/data/links/Y7-t7QTgQ...</td>\n",
       "    </tr>\n",
       "    <tr>\n",
       "      <th>4</th>\n",
       "      <td>Y7-t7QTgQws</td>\n",
       "      <td>00:00:07.580</td>\n",
       "      <td>00:00:27.190</td>\n",
       "      <td></td>\n",
       "      <td>https://www.youtube.com/watch?v=Y7-t7QTgQws</td>\n",
       "      <td>/Volumes/Elements/Dev/TCC/data/links/Y7-t7QTgQ...</td>\n",
       "    </tr>\n",
       "  </tbody>\n",
       "</table>\n",
       "</div>"
      ],
      "text/plain": [
       "      video_id         start           end  \\\n",
       "0  Y7-t7QTgQws  00:00:00.390  00:00:06.150   \n",
       "1  Y7-t7QTgQws  00:00:06.150  00:00:06.160   \n",
       "2  Y7-t7QTgQws  00:00:06.160  00:00:07.570   \n",
       "3  Y7-t7QTgQws  00:00:07.570  00:00:07.580   \n",
       "4  Y7-t7QTgQws  00:00:07.580  00:00:27.190   \n",
       "\n",
       "                                                text  \\\n",
       "0   \\n[Music]  so  [Music]  [Music]  so  uh  [Mus...   \n",
       "1                                                \\n    \n",
       "2                                                      \n",
       "3                                                \\n    \n",
       "4                                                      \n",
       "\n",
       "                                    video_link  \\\n",
       "0  https://www.youtube.com/watch?v=Y7-t7QTgQws   \n",
       "1  https://www.youtube.com/watch?v=Y7-t7QTgQws   \n",
       "2  https://www.youtube.com/watch?v=Y7-t7QTgQws   \n",
       "3  https://www.youtube.com/watch?v=Y7-t7QTgQws   \n",
       "4  https://www.youtube.com/watch?v=Y7-t7QTgQws   \n",
       "\n",
       "                                                path  \n",
       "0  /Volumes/Elements/Dev/TCC/data/links/Y7-t7QTgQ...  \n",
       "1  /Volumes/Elements/Dev/TCC/data/links/Y7-t7QTgQ...  \n",
       "2  /Volumes/Elements/Dev/TCC/data/links/Y7-t7QTgQ...  \n",
       "3  /Volumes/Elements/Dev/TCC/data/links/Y7-t7QTgQ...  \n",
       "4  /Volumes/Elements/Dev/TCC/data/links/Y7-t7QTgQ...  "
      ]
     },
     "execution_count": 112,
     "metadata": {},
     "output_type": "execute_result"
    }
   ],
   "source": [
    "df.head()"
   ]
  },
  {
   "cell_type": "code",
   "execution_count": 113,
   "metadata": {},
   "outputs": [],
   "source": [
    "df.to_csv(f\"{META_DIR}/Subtitle{AMV}.csv\", index=False)"
   ]
  },
  {
   "cell_type": "code",
   "execution_count": null,
   "metadata": {},
   "outputs": [],
   "source": []
  }
 ],
 "metadata": {
  "kernelspec": {
   "display_name": "Python 3 (ipykernel)",
   "language": "python",
   "name": "python3"
  },
  "language_info": {
   "codemirror_mode": {
    "name": "ipython",
    "version": 3
   },
   "file_extension": ".py",
   "mimetype": "text/x-python",
   "name": "python",
   "nbconvert_exporter": "python",
   "pygments_lexer": "ipython3",
   "version": "3.9.13"
  },
  "nbTranslate": {
   "displayLangs": [
    "*"
   ],
   "hotkey": "alt-t",
   "langInMainMenu": true,
   "sourceLang": "en",
   "targetLang": "fr",
   "useGoogleTranslate": true
  },
  "varInspector": {
   "cols": {
    "lenName": 16,
    "lenType": 16,
    "lenVar": 40
   },
   "kernels_config": {
    "python": {
     "delete_cmd_postfix": "",
     "delete_cmd_prefix": "del ",
     "library": "var_list.py",
     "varRefreshCmd": "print(var_dic_list())"
    },
    "r": {
     "delete_cmd_postfix": ") ",
     "delete_cmd_prefix": "rm(",
     "library": "var_list.r",
     "varRefreshCmd": "cat(var_dic_list()) "
    }
   },
   "types_to_exclude": [
    "module",
    "function",
    "builtin_function_or_method",
    "instance",
    "_Feature"
   ],
   "window_display": false
  }
 },
 "nbformat": 4,
 "nbformat_minor": 4
}
